{
 "cells": [
  {
   "cell_type": "markdown",
   "metadata": {},
   "source": [
    "# Лабораторная работа 4"
   ]
  },
  {
   "cell_type": "markdown",
   "metadata": {},
   "source": [
    "Tensorflow 2.x\n",
    "\n",
    "1) Подготовка данных\n",
    "\n",
    "2) Использование Keras Model API\n",
    "\n",
    "3) Использование Keras Sequential + Functional API"
   ]
  },
  {
   "cell_type": "markdown",
   "metadata": {},
   "source": [
    "https://www.tensorflow.org/tutorials"
   ]
  },
  {
   "cell_type": "markdown",
   "metadata": {},
   "source": [
    "Для выполнения лабораторной работы необходимо установить tensorflow версии 2.0 или выше .\n",
    "\n",
    "Рекомендуется использовать возможности Colab'а по обучению моделей на GPU.\n",
    "\n"
   ]
  },
  {
   "cell_type": "code",
   "execution_count": 1,
   "metadata": {
    "ExecuteTime": {
     "end_time": "2024-04-07T09:42:24.375131700Z",
     "start_time": "2024-04-07T09:42:24.280365Z"
    }
   },
   "outputs": [],
   "source": [
    "import os\n",
    "import tensorflow as tf\n",
    "import numpy as np\n",
    "import math\n",
    "import timeit\n",
    "import matplotlib.pyplot as plt\n",
    "\n",
    "%matplotlib inline"
   ]
  },
  {
   "cell_type": "markdown",
   "metadata": {},
   "source": [
    "# Подготовка данных\n",
    "Загрузите набор данных из предыдущей лабораторной работы. "
   ]
  },
  {
   "cell_type": "code",
   "execution_count": 2,
   "metadata": {
    "ExecuteTime": {
     "end_time": "2024-04-07T09:42:25.647652800Z",
     "start_time": "2024-04-07T09:42:24.298398600Z"
    }
   },
   "outputs": [
    {
     "name": "stdout",
     "output_type": "stream",
     "text": [
      "Train data shape:  (49000, 32, 32, 3)\n",
      "Train labels shape:  (49000,) int32\n",
      "Validation data shape:  (1000, 32, 32, 3)\n",
      "Validation labels shape:  (1000,)\n",
      "Test data shape:  (10000, 32, 32, 3)\n",
      "Test labels shape:  (10000,)\n"
     ]
    }
   ],
   "source": [
    "def load_cifar10(num_training=49000, num_validation=1000, num_test=10000):\n",
    "    \"\"\"\n",
    "    Fetch the CIFAR-10 dataset from the web and perform preprocessing to prepare\n",
    "    it for the two-layer neural net classifier. These are the same steps as\n",
    "    we used for the SVM, but condensed to a single function.\n",
    "    \"\"\"\n",
    "    # Load the raw CIFAR-10 dataset and use appropriate data types and shapes\n",
    "    cifar10 = tf.keras.datasets.cifar10.load_data()\n",
    "    (X_train, y_train), (X_test, y_test) = cifar10\n",
    "    X_train = np.asarray(X_train, dtype=np.float32)\n",
    "    y_train = np.asarray(y_train, dtype=np.int32).flatten()\n",
    "    X_test = np.asarray(X_test, dtype=np.float32)\n",
    "    y_test = np.asarray(y_test, dtype=np.int32).flatten()\n",
    "\n",
    "    # Subsample the data\n",
    "    mask = range(num_training, num_training + num_validation)\n",
    "    X_val = X_train[mask]\n",
    "    y_val = y_train[mask]\n",
    "    mask = range(num_training)\n",
    "    X_train = X_train[mask]\n",
    "    y_train = y_train[mask]\n",
    "    mask = range(num_test)\n",
    "    X_test = X_test[mask]\n",
    "    y_test = y_test[mask]\n",
    "\n",
    "    # Normalize the data: subtract the mean pixel and divide by std\n",
    "    mean_pixel = X_train.mean(axis=(0, 1, 2), keepdims=True)\n",
    "    std_pixel = X_train.std(axis=(0, 1, 2), keepdims=True)\n",
    "    X_train = (X_train - mean_pixel) / std_pixel\n",
    "    X_val = (X_val - mean_pixel) / std_pixel\n",
    "    X_test = (X_test - mean_pixel) / std_pixel\n",
    "\n",
    "    return X_train, y_train, X_val, y_val, X_test, y_test\n",
    "\n",
    "# If there are errors with SSL downloading involving self-signed certificates,\n",
    "# it may be that your Python version was recently installed on the current machine.\n",
    "# See: https://github.com/tensorflow/tensorflow/issues/10779\n",
    "# To fix, run the command: /Applications/Python\\ 3.7/Install\\ Certificates.command\n",
    "#   ...replacing paths as necessary.\n",
    "\n",
    "# Invoke the above function to get our data.\n",
    "NHW = (0, 1, 2)\n",
    "X_train, y_train, X_val, y_val, X_test, y_test = load_cifar10()\n",
    "print('Train data shape: ', X_train.shape)\n",
    "print('Train labels shape: ', y_train.shape, y_train.dtype)\n",
    "print('Validation data shape: ', X_val.shape)\n",
    "print('Validation labels shape: ', y_val.shape)\n",
    "print('Test data shape: ', X_test.shape)\n",
    "print('Test labels shape: ', y_test.shape)"
   ]
  },
  {
   "cell_type": "code",
   "execution_count": 3,
   "metadata": {
    "ExecuteTime": {
     "end_time": "2024-04-07T09:42:25.660671300Z",
     "start_time": "2024-04-07T09:42:25.644651400Z"
    }
   },
   "outputs": [],
   "source": [
    "class Dataset(object):\n",
    "    def __init__(self, X, y, batch_size, shuffle=False):\n",
    "        \"\"\"\n",
    "        Construct a Dataset object to iterate over data X and labels y\n",
    "        \n",
    "        Inputs:\n",
    "        - X: Numpy array of data, of any shape\n",
    "        - y: Numpy array of labels, of any shape but with y.shape[0] == X.shape[0]\n",
    "        - batch_size: Integer giving number of elements per minibatch\n",
    "        - shuffle: (optional) Boolean, whether to shuffle the data on each epoch\n",
    "        \"\"\"\n",
    "        assert X.shape[0] == y.shape[0], 'Got different numbers of data and labels'\n",
    "        self.X, self.y = X, y\n",
    "        self.batch_size, self.shuffle = batch_size, shuffle\n",
    "\n",
    "    def __iter__(self):\n",
    "        N, B = self.X.shape[0], self.batch_size\n",
    "        idxs = np.arange(N)\n",
    "        if self.shuffle:\n",
    "            np.random.shuffle(idxs)\n",
    "        return iter((self.X[i:i+B], self.y[i:i+B]) for i in range(0, N, B))\n",
    "\n",
    "\n",
    "train_dset = Dataset(X_train, y_train, batch_size=64, shuffle=True)\n",
    "val_dset = Dataset(X_val, y_val, batch_size=64, shuffle=False)\n",
    "test_dset = Dataset(X_test, y_test, batch_size=64)"
   ]
  },
  {
   "cell_type": "code",
   "execution_count": 4,
   "metadata": {
    "ExecuteTime": {
     "end_time": "2024-04-07T09:42:25.737780700Z",
     "start_time": "2024-04-07T09:42:25.659667100Z"
    }
   },
   "outputs": [
    {
     "name": "stdout",
     "output_type": "stream",
     "text": [
      "0 (64, 32, 32, 3) (64,)\n",
      "1 (64, 32, 32, 3) (64,)\n",
      "2 (64, 32, 32, 3) (64,)\n",
      "3 (64, 32, 32, 3) (64,)\n",
      "4 (64, 32, 32, 3) (64,)\n",
      "5 (64, 32, 32, 3) (64,)\n",
      "6 (64, 32, 32, 3) (64,)\n"
     ]
    }
   ],
   "source": [
    "# We can iterate through a dataset like this:\n",
    "for t, (x, y) in enumerate(train_dset):\n",
    "    print(t, x.shape, y.shape)\n",
    "    if t > 5: break"
   ]
  },
  {
   "cell_type": "markdown",
   "metadata": {},
   "source": [
    "#  Keras Model Subclassing API"
   ]
  },
  {
   "cell_type": "markdown",
   "metadata": {},
   "source": [
    "\n",
    "Для реализации собственной модели с помощью Keras Model Subclassing API необходимо выполнить следующие шаги:\n",
    "\n",
    "1) Определить новый класс, который является наследником tf.keras.Model.\n",
    "\n",
    "2) В методе __init__() определить все необходимые слои из модуля tf.keras.layer\n",
    "\n",
    "3) Реализовать прямой проход в методе call() на основе слоев, объявленных в __init__()\n",
    "\n",
    "Ниже приведен пример использования keras API для определения двухслойной полносвязной сети. \n",
    "\n",
    "https://www.tensorflow.org/versions/r2.0/api_docs/python/tf/keras"
   ]
  },
  {
   "cell_type": "code",
   "execution_count": 7,
   "metadata": {
    "ExecuteTime": {
     "end_time": "2024-04-07T09:42:25.787512200Z",
     "start_time": "2024-04-07T09:42:25.736781700Z"
    }
   },
   "outputs": [
    {
     "name": "stdout",
     "output_type": "stream",
     "text": [
      "[PhysicalDevice(name='/physical_device:CPU:0', device_type='CPU')]\n",
      "Testing model on /cpu:0\n",
      "(64, 10)\n"
     ]
    }
   ],
   "source": [
    "class TwoLayerFC(tf.keras.Model):\n",
    "    def __init__(self, hidden_size, num_classes):\n",
    "        \"\"\"\n",
    "        Инициализирует объект класса TwoLayerFC.\n",
    "\n",
    "        Аргументы:\n",
    "        - hidden_size: количество нейронов в скрытом слое.\n",
    "        - num_classes: количество классов, на которые модель будет классифицировать.\n",
    "        \"\"\"\n",
    "        super(TwoLayerFC, self).__init__()        \n",
    "        initializer = tf.initializers.VarianceScaling(scale=2.0)\n",
    "        # Первый слой: полносвязный слой с функцией активации ReLU\n",
    "        self.fc1 = tf.keras.layers.Dense(hidden_size, activation='relu',\n",
    "                                   kernel_initializer=initializer)\n",
    "        # Второй слой: полносвязный слой с функцией активации softmax для классификации\n",
    "        self.fc2 = tf.keras.layers.Dense(num_classes, activation='softmax',\n",
    "                                   kernel_initializer=initializer)\n",
    "        # Слой для вытягивания входных данных в вектор\n",
    "        self.flatten = tf.keras.layers.Flatten()\n",
    "    \n",
    "    def call(self, x, training=False):\n",
    "        \"\"\"\n",
    "        Выполняет прямой проход модели.\n",
    "\n",
    "        Аргументы:\n",
    "        - x: входные данные, тензор TensorFlow.\n",
    "        - training: булево значение, указывающее на то, находится ли модель в режиме обучения.\n",
    "        \"\"\"\n",
    "        x = self.flatten(x)\n",
    "        x = self.fc1(x)\n",
    "        x = self.fc2(x)\n",
    "        return x\n",
    "\n",
    "\n",
    "print(tf.config.experimental.list_physical_devices())\n",
    "\n",
    "device = \"/device:GPU:0\" if tf.config.experimental.list_physical_devices('GPU') else \"/cpu:0\"\n",
    "\n",
    "def test_TwoLayerFC():\n",
    "    \"\"\" A small unit test to exercise the TwoLayerFC model above. \"\"\"\n",
    "    input_size, hidden_size, num_classes = 50, 42, 10\n",
    "    x = tf.zeros((64, input_size))\n",
    "    model = TwoLayerFC(hidden_size, num_classes)\n",
    "    \n",
    "    # Проверка доступности GPU и использование его в случае доступности\n",
    "    print(f\"Testing model on {device}\")\n",
    "\n",
    "    with tf.device(device):\n",
    "        scores = model(x)\n",
    "        print(scores.shape)  # Ожидаемый вывод: (64, 10)\n",
    "        \n",
    "test_TwoLayerFC()"
   ]
  },
  {
   "cell_type": "markdown",
   "metadata": {},
   "source": [
    "Реализуйте трехслойную CNN для вашей задачи классификации. \n",
    "\n",
    "Архитектура сети:\n",
    "    \n",
    "1. Сверточный слой (5 x 5 kernels, zero-padding = 'same')\n",
    "2. Функция активации ReLU \n",
    "3. Сверточный слой (3 x 3 kernels, zero-padding = 'same')\n",
    "4. Функция активации ReLU \n",
    "5. Полносвязный слой \n",
    "6. Функция активации Softmax \n",
    "\n",
    "https://www.tensorflow.org/versions/r2.0/api_docs/python/tf/keras/layers/Conv2D\n",
    "\n",
    "https://www.tensorflow.org/versions/r2.0/api_docs/python/tf/keras/layers/Dense"
   ]
  },
  {
   "cell_type": "code",
   "execution_count": 9,
   "metadata": {
    "ExecuteTime": {
     "end_time": "2024-04-07T09:42:25.788514700Z",
     "start_time": "2024-04-07T09:42:25.769721100Z"
    }
   },
   "outputs": [],
   "source": [
    "class ThreeLayerConvNet(tf.keras.Model):\n",
    "    def __init__(self, channel_1, channel_2, num_classes):\n",
    "        super(ThreeLayerConvNet, self).__init__()\n",
    "        ########################################################################\n",
    "        # TODO: Implement the __init__ method for a three-layer ConvNet. You   #\n",
    "        # should instantiate layer objects to be used in the forward pass.     #\n",
    "        ########################################################################\n",
    "        # *****START OF YOUR CODE (DO NOT DELETE/MODIFY THIS LINE)*****\n",
    "\n",
    "        initializer = tf.initializers.VarianceScaling(scale=2.0)\n",
    "\n",
    "        # Первый сверточный слой\n",
    "        self.conv1 = tf.keras.layers.Conv2D(channel_1, (5, 5), padding='same', \n",
    "                                            activation='relu',\n",
    "                                            kernel_initializer=initializer)\n",
    "        \n",
    "        # Второй сверточный слой\n",
    "        self.conv2 = tf.keras.layers.Conv2D(channel_2, (3, 3), padding='same', \n",
    "                                            activation='relu',\n",
    "                                            kernel_initializer=initializer)\n",
    "\n",
    "        # Полносвязный слой и функция активации Softmax\n",
    "        self.fc = tf.keras.layers.Dense(num_classes, activation='softmax',\n",
    "                                        kernel_initializer=initializer)\n",
    "        \n",
    "        # Выравнивание для подачи в полносвязный слой\n",
    "        self.flatten = tf.keras.layers.Flatten()\n",
    "\n",
    "        # *****END OF YOUR CODE (DO NOT DELETE/MODIFY THIS LINE)*****\n",
    "        ########################################################################\n",
    "        #                           END OF YOUR CODE                           #\n",
    "        ########################################################################\n",
    "        \n",
    "    def call(self, x, training=False):\n",
    "        scores = None\n",
    "        ########################################################################\n",
    "        # TODO: Implement the forward pass for a three-layer ConvNet. You      #\n",
    "        # should use the layer objects defined in the __init__ method.         #\n",
    "        ########################################################################\n",
    "        # *****START OF YOUR CODE (DO NOT DELETE/MODIFY THIS LINE)*****\n",
    "\n",
    "        x = self.conv1(x)\n",
    "        x = self.conv2(x)\n",
    "        x = self.flatten(x)\n",
    "        scores = self.fc(x)\n",
    "\n",
    "        # *****END OF YOUR CODE (DO NOT DELETE/MODIFY THIS LINE)*****\n",
    "        ########################################################################\n",
    "        #                           END OF YOUR CODE                           #\n",
    "        ########################################################################        \n",
    "        return scores"
   ]
  },
  {
   "cell_type": "code",
   "execution_count": 10,
   "metadata": {
    "ExecuteTime": {
     "end_time": "2024-04-07T09:42:25.844479100Z",
     "start_time": "2024-04-07T09:42:25.784515700Z"
    }
   },
   "outputs": [
    {
     "name": "stdout",
     "output_type": "stream",
     "text": [
      "(64, 10)\n"
     ]
    }
   ],
   "source": [
    "def test_ThreeLayerConvNet():    \n",
    "    channel_1, channel_2, num_classes = 12, 8, 10\n",
    "    model = ThreeLayerConvNet(channel_1, channel_2, num_classes)\n",
    "    with tf.device(device):\n",
    "        x = tf.zeros((64, 3, 32, 32))\n",
    "        scores = model(x)\n",
    "        print(scores.shape)\n",
    "\n",
    "test_ThreeLayerConvNet()"
   ]
  },
  {
   "cell_type": "markdown",
   "metadata": {},
   "source": [
    "Пример реализации процесса обучения:"
   ]
  },
  {
   "cell_type": "code",
   "execution_count": 30,
   "metadata": {
    "ExecuteTime": {
     "end_time": "2024-04-07T09:42:25.850983900Z",
     "start_time": "2024-04-07T09:42:25.818423800Z"
    }
   },
   "outputs": [],
   "source": [
    "def train_part34(model_init_fn, optimizer_init_fn, num_epochs=1, is_training=False):\n",
    "    \"\"\"\n",
    "    Simple training loop for use with models defined using tf.keras. It trains\n",
    "    a model for one epoch on the CIFAR-10 training set and periodically checks\n",
    "    accuracy on the CIFAR-10 validation set.\n",
    "    \n",
    "    Inputs:\n",
    "    - model_init_fn: A function that takes no parameters; when called it\n",
    "      constructs the model we want to train: model = model_init_fn()\n",
    "    - optimizer_init_fn: A function which takes no parameters; when called it\n",
    "      constructs the Optimizer object we will use to optimize the model:\n",
    "      optimizer = optimizer_init_fn()\n",
    "    - num_epochs: The number of epochs to train for\n",
    "    \n",
    "    Returns: Nothing, but prints progress during trainingn\n",
    "    \"\"\"    \n",
    "    print_every = 100\n",
    "    \n",
    "    with tf.device(device):\n",
    "\n",
    "        \n",
    "        loss_fn = tf.keras.losses.SparseCategoricalCrossentropy()\n",
    "        \n",
    "        model = model_init_fn()\n",
    "        optimizer = optimizer_init_fn()\n",
    "        \n",
    "        train_loss = tf.keras.metrics.Mean(name='train_loss')\n",
    "        train_accuracy = tf.keras.metrics.SparseCategoricalAccuracy(name='train_accuracy')\n",
    "    \n",
    "        val_loss = tf.keras.metrics.Mean(name='val_loss')\n",
    "        val_accuracy = tf.keras.metrics.SparseCategoricalAccuracy(name='val_accuracy')\n",
    "        \n",
    "        t = 0\n",
    "        for epoch in range(num_epochs):\n",
    "            \n",
    "            # Reset the metrics - https://www.tensorflow.org/alpha/guide/migration_guide#new-style_metrics\n",
    "            train_loss.reset_state()\n",
    "            train_accuracy.reset_state()\n",
    "            \n",
    "            for x_np, y_np in train_dset:\n",
    "                with tf.GradientTape() as tape:\n",
    "                    \n",
    "                    # Use the model function to build the forward pass.\n",
    "                    scores = model(x_np, training=is_training)\n",
    "                    loss = loss_fn(y_np, scores)\n",
    "      \n",
    "                    gradients = tape.gradient(loss, model.trainable_variables)\n",
    "                    optimizer.apply_gradients(zip(gradients, model.trainable_variables))\n",
    "                    \n",
    "                    # Update the metrics\n",
    "                    train_loss.update_state(loss)\n",
    "                    train_accuracy.update_state(y_np, scores)\n",
    "                    \n",
    "                    if t % print_every == 0:\n",
    "                        val_loss.reset_state()\n",
    "                        val_accuracy.reset_state()\n",
    "                        for test_x, test_y in val_dset:\n",
    "                            # During validation at end of epoch, training set to False\n",
    "                            prediction = model(test_x, training=False)\n",
    "                            t_loss = loss_fn(test_y, prediction)\n",
    "\n",
    "                            val_loss.update_state(t_loss)\n",
    "                            val_accuracy.update_state(test_y, prediction)\n",
    "                        \n",
    "                        template = 'Iteration {}, Epoch {}, Loss: {}, Accuracy: {}, Val Loss: {}, Val Accuracy: {}'\n",
    "                        print (template.format(t, epoch+1,\n",
    "                                             train_loss.result(),\n",
    "                                             train_accuracy.result()*100,\n",
    "                                             val_loss.result(),\n",
    "                                             val_accuracy.result()*100))\n",
    "                    t += 1"
   ]
  },
  {
   "cell_type": "code",
   "execution_count": 31,
   "metadata": {
    "ExecuteTime": {
     "end_time": "2024-04-07T09:42:38.945833600Z",
     "start_time": "2024-04-07T09:42:25.830962Z"
    }
   },
   "outputs": [
    {
     "name": "stdout",
     "output_type": "stream",
     "text": [
      "Iteration 0, Epoch 1, Loss: 3.632412910461426, Accuracy: 6.25, Val Loss: 2.8696064949035645, Val Accuracy: 14.100000381469727\n",
      "Iteration 100, Epoch 1, Loss: 2.2364540100097656, Accuracy: 28.29517364501953, Val Loss: 1.8821254968643188, Val Accuracy: 36.5\n",
      "Iteration 200, Epoch 1, Loss: 2.0780985355377197, Accuracy: 31.856342315673828, Val Loss: 1.8609882593154907, Val Accuracy: 39.29999923706055\n",
      "Iteration 300, Epoch 1, Loss: 2.0031516551971436, Accuracy: 33.65863800048828, Val Loss: 1.8926537036895752, Val Accuracy: 37.20000076293945\n",
      "Iteration 400, Epoch 1, Loss: 1.932506799697876, Accuracy: 35.63746643066406, Val Loss: 1.7176035642623901, Val Accuracy: 42.5\n",
      "Iteration 500, Epoch 1, Loss: 1.8868778944015503, Accuracy: 36.82322692871094, Val Loss: 1.666115164756775, Val Accuracy: 42.69999694824219\n",
      "Iteration 600, Epoch 1, Loss: 1.8570709228515625, Accuracy: 37.741783142089844, Val Loss: 1.6919937133789062, Val Accuracy: 41.70000076293945\n",
      "Iteration 700, Epoch 1, Loss: 1.8320603370666504, Accuracy: 38.429473876953125, Val Loss: 1.6504920721054077, Val Accuracy: 43.099998474121094\n"
     ]
    }
   ],
   "source": [
    "hidden_size, num_classes = 4000, 10\n",
    "learning_rate = 1e-2\n",
    "\n",
    "def model_init_fn():\n",
    "    return TwoLayerFC(hidden_size, num_classes)\n",
    "\n",
    "def optimizer_init_fn():\n",
    "    return tf.keras.optimizers.SGD(learning_rate=learning_rate)\n",
    "\n",
    "train_part34(model_init_fn, optimizer_init_fn)"
   ]
  },
  {
   "cell_type": "markdown",
   "metadata": {},
   "source": [
    "Обучите трехслойную CNN. В tf.keras.optimizers.SGD укажите Nesterov momentum = 0.9 . \n",
    "\n",
    "https://www.tensorflow.org/versions/r2.0/api_docs/python/tf/optimizers/SGD\n",
    "\n",
    "Значение accuracy на валидационной выборке после 1 эпохи обучения должно быть > 50% ."
   ]
  },
  {
   "cell_type": "code",
   "execution_count": 32,
   "metadata": {
    "ExecuteTime": {
     "end_time": "2024-04-07T09:45:02.337563600Z",
     "start_time": "2024-04-07T09:44:42.271080300Z"
    }
   },
   "outputs": [
    {
     "name": "stderr",
     "output_type": "stream",
     "text": [
      "C:\\Users\\Maxim\\AppData\\Local\\Programs\\Python\\Python39\\lib\\site-packages\\keras\\src\\layers\\convolutional\\base_conv.py:107: UserWarning: Do not pass an `input_shape`/`input_dim` argument to a layer. When using Sequential models, prefer using an `Input(shape)` object as the first layer in the model instead.\n",
      "  super().__init__(activity_regularizer=activity_regularizer, **kwargs)\n"
     ]
    },
    {
     "name": "stdout",
     "output_type": "stream",
     "text": [
      "Iteration 0, Epoch 1, Loss: 2.324457883834839, Accuracy: 3.125, Val Loss: 2.3681869506835938, Val Accuracy: 8.600000381469727\n",
      "Iteration 100, Epoch 1, Loss: 1.8730764389038086, Accuracy: 32.92079162597656, Val Loss: 1.6329078674316406, Val Accuracy: 43.70000076293945\n",
      "Iteration 200, Epoch 1, Loss: 1.7249865531921387, Accuracy: 38.9381217956543, Val Loss: 1.4608886241912842, Val Accuracy: 50.099998474121094\n",
      "Iteration 300, Epoch 1, Loss: 1.6421505212783813, Accuracy: 41.818939208984375, Val Loss: 1.4315861463546753, Val Accuracy: 49.599998474121094\n",
      "Iteration 400, Epoch 1, Loss: 1.5754363536834717, Accuracy: 44.24095916748047, Val Loss: 1.3543591499328613, Val Accuracy: 51.0\n",
      "Iteration 500, Epoch 1, Loss: 1.530224084854126, Accuracy: 45.87699508666992, Val Loss: 1.3072023391723633, Val Accuracy: 54.5\n",
      "Iteration 600, Epoch 1, Loss: 1.4994574785232544, Accuracy: 46.91919708251953, Val Loss: 1.3101202249526978, Val Accuracy: 52.79999923706055\n",
      "Iteration 700, Epoch 1, Loss: 1.470598816871643, Accuracy: 47.95381546020508, Val Loss: 1.2852240800857544, Val Accuracy: 54.79999923706055\n"
     ]
    }
   ],
   "source": [
    "learning_rate = 3e-3\n",
    "channel_1, channel_2, num_classes = 32, 16, 10\n",
    "\n",
    "def model_init_fn():\n",
    "    model = None\n",
    "    ############################################################################\n",
    "    # TODO: Complete the implementation of model_fn.                           #\n",
    "    ############################################################################\n",
    "    # *****START OF YOUR CODE (DO NOT DELETE/MODIFY THIS LINE)*****\n",
    "\n",
    "    model = tf.keras.Sequential([\n",
    "        # Сверточный слой 1\n",
    "        tf.keras.layers.Conv2D(32, (5, 5), padding='same', activation='relu', input_shape=(32, 32, 3)),\n",
    "        # Сверточный слой 2\n",
    "        tf.keras.layers.Conv2D(16, (3, 3), padding='same', activation='relu'),\n",
    "        # Выравнивание в одномерный вектор\n",
    "        tf.keras.layers.Flatten(),\n",
    "        # Полносвязный слой\n",
    "        tf.keras.layers.Dense(num_classes, activation='softmax')\n",
    "    ])\n",
    "    return model\n",
    "\n",
    "    # *****END OF YOUR CODE (DO NOT DELETE/MODIFY THIS LINE)*****\n",
    "    ############################################################################\n",
    "    #                           END OF YOUR CODE                               #\n",
    "    ############################################################################\n",
    "    return model\n",
    "\n",
    "def optimizer_init_fn():\n",
    "    optimizer = None\n",
    "    ############################################################################\n",
    "    # TODO: Complete the implementation of model_fn.                           #\n",
    "    ############################################################################\n",
    "    # *****START OF YOUR CODE (DO NOT DELETE/MODIFY THIS LINE)*****\n",
    "\n",
    "    optimizer = tf.keras.optimizers.SGD(learning_rate=3e-3, momentum=0.9, nesterov=True)\n",
    "\n",
    "    # *****END OF YOUR CODE (DO NOT DELETE/MODIFY THIS LINE)*****\n",
    "    ############################################################################\n",
    "    #                           END OF YOUR CODE                               #\n",
    "    ############################################################################\n",
    "    return optimizer\n",
    "\n",
    "train_part34(model_init_fn, optimizer_init_fn)"
   ]
  },
  {
   "cell_type": "markdown",
   "metadata": {},
   "source": [
    "# Использование Keras Sequential API для реализации последовательных моделей.\n",
    "\n",
    "Пример для полносвязной сети:"
   ]
  },
  {
   "cell_type": "code",
   "execution_count": 33,
   "metadata": {
    "ExecuteTime": {
     "end_time": "2024-04-07T09:45:36.858075500Z",
     "start_time": "2024-04-07T09:45:23.275627500Z"
    }
   },
   "outputs": [
    {
     "name": "stderr",
     "output_type": "stream",
     "text": [
      "C:\\Users\\Maxim\\AppData\\Local\\Programs\\Python\\Python39\\lib\\site-packages\\keras\\src\\layers\\reshaping\\flatten.py:37: UserWarning: Do not pass an `input_shape`/`input_dim` argument to a layer. When using Sequential models, prefer using an `Input(shape)` object as the first layer in the model instead.\n",
      "  super().__init__(**kwargs)\n"
     ]
    },
    {
     "name": "stdout",
     "output_type": "stream",
     "text": [
      "Iteration 0, Epoch 1, Loss: 2.9528720378875732, Accuracy: 9.375, Val Loss: 2.844874620437622, Val Accuracy: 12.0\n",
      "Iteration 100, Epoch 1, Loss: 2.243732213973999, Accuracy: 28.032176971435547, Val Loss: 1.907759666442871, Val Accuracy: 38.29999923706055\n",
      "Iteration 200, Epoch 1, Loss: 2.086353302001953, Accuracy: 31.809701919555664, Val Loss: 1.8078781366348267, Val Accuracy: 40.099998474121094\n",
      "Iteration 300, Epoch 1, Loss: 2.0071215629577637, Accuracy: 33.72611999511719, Val Loss: 1.9034514427185059, Val Accuracy: 37.599998474121094\n",
      "Iteration 400, Epoch 1, Loss: 1.9355055093765259, Accuracy: 35.6491584777832, Val Loss: 1.7008490562438965, Val Accuracy: 42.5\n",
      "Iteration 500, Epoch 1, Loss: 1.8893007040023804, Accuracy: 36.735904693603516, Val Loss: 1.6468122005462646, Val Accuracy: 43.900001525878906\n",
      "Iteration 600, Epoch 1, Loss: 1.8598777055740356, Accuracy: 37.63519287109375, Val Loss: 1.6788009405136108, Val Accuracy: 42.79999923706055\n",
      "Iteration 700, Epoch 1, Loss: 1.8322720527648926, Accuracy: 38.3336296081543, Val Loss: 1.6145310401916504, Val Accuracy: 46.099998474121094\n"
     ]
    }
   ],
   "source": [
    "learning_rate = 1e-2\n",
    "\n",
    "def model_init_fn():\n",
    "    input_shape = (32, 32, 3)\n",
    "    hidden_layer_size, num_classes = 4000, 10\n",
    "    initializer = tf.initializers.VarianceScaling(scale=2.0)\n",
    "    layers = [\n",
    "        tf.keras.layers.Flatten(input_shape=input_shape),\n",
    "        tf.keras.layers.Dense(hidden_layer_size, activation='relu',\n",
    "                              kernel_initializer=initializer),\n",
    "        tf.keras.layers.Dense(num_classes, activation='softmax', \n",
    "                              kernel_initializer=initializer),\n",
    "    ]\n",
    "    model = tf.keras.Sequential(layers)\n",
    "    return model\n",
    "\n",
    "def optimizer_init_fn():\n",
    "    return tf.keras.optimizers.SGD(learning_rate=learning_rate) \n",
    "\n",
    "train_part34(model_init_fn, optimizer_init_fn)"
   ]
  },
  {
   "cell_type": "markdown",
   "metadata": {},
   "source": [
    "Альтернативный менее гибкий способ обучения:"
   ]
  },
  {
   "cell_type": "code",
   "execution_count": 34,
   "metadata": {
    "ExecuteTime": {
     "end_time": "2024-04-07T09:45:54.677468300Z",
     "start_time": "2024-04-07T09:45:46.031245500Z"
    }
   },
   "outputs": [
    {
     "name": "stdout",
     "output_type": "stream",
     "text": [
      "\u001b[1m766/766\u001b[0m \u001b[32m━━━━━━━━━━━━━━━━━━━━\u001b[0m\u001b[37m\u001b[0m \u001b[1m27s\u001b[0m 34ms/step - loss: 2.0016 - sparse_categorical_accuracy: 0.3447 - val_loss: 1.9474 - val_sparse_categorical_accuracy: 0.3950\n",
      "\u001b[1m313/313\u001b[0m \u001b[32m━━━━━━━━━━━━━━━━━━━━\u001b[0m\u001b[37m\u001b[0m \u001b[1m2s\u001b[0m 6ms/step - loss: 1.8893 - sparse_categorical_accuracy: 0.3966\n"
     ]
    },
    {
     "data": {
      "text/plain": [
       "[1.9073058366775513, 0.3896999955177307]"
      ]
     },
     "execution_count": 34,
     "metadata": {},
     "output_type": "execute_result"
    }
   ],
   "source": [
    "model = model_init_fn()\n",
    "model.compile(optimizer=tf.keras.optimizers.SGD(learning_rate=learning_rate),\n",
    "              loss='sparse_categorical_crossentropy',\n",
    "              metrics=[tf.keras.metrics.sparse_categorical_accuracy])\n",
    "model.fit(X_train, y_train, batch_size=64, epochs=1, validation_data=(X_val, y_val))\n",
    "model.evaluate(X_test, y_test)"
   ]
  },
  {
   "cell_type": "markdown",
   "metadata": {},
   "source": [
    "Перепишите реализацию трехслойной CNN с помощью tf.keras.Sequential API . Обучите модель двумя способами."
   ]
  },
  {
   "cell_type": "code",
   "execution_count": 36,
   "metadata": {
    "ExecuteTime": {
     "end_time": "2024-04-07T09:53:21.850715200Z",
     "start_time": "2024-04-07T09:52:21.940636700Z"
    }
   },
   "outputs": [
    {
     "name": "stdout",
     "output_type": "stream",
     "text": [
      "Iteration 0, Epoch 1, Loss: 2.373361587524414, Accuracy: 14.0625, Val Loss: 2.415419101715088, Val Accuracy: 9.199999809265137\n",
      "Iteration 100, Epoch 1, Loss: 2.277637481689453, Accuracy: 14.882426261901855, Val Loss: 2.2147510051727295, Val Accuracy: 19.400001525878906\n",
      "Iteration 200, Epoch 1, Loss: 2.230239152908325, Accuracy: 17.46735191345215, Val Loss: 2.132425308227539, Val Accuracy: 24.5\n",
      "Iteration 300, Epoch 1, Loss: 2.1928648948669434, Accuracy: 19.55980110168457, Val Loss: 2.0797982215881348, Val Accuracy: 28.099998474121094\n",
      "Iteration 400, Epoch 1, Loss: 2.1556429862976074, Accuracy: 21.49314308166504, Val Loss: 2.0311787128448486, Val Accuracy: 28.899999618530273\n",
      "Iteration 500, Epoch 1, Loss: 2.130211353302002, Accuracy: 22.75448989868164, Val Loss: 1.9985089302062988, Val Accuracy: 30.700000762939453\n",
      "Iteration 600, Epoch 1, Loss: 2.1086206436157227, Accuracy: 23.853473663330078, Val Loss: 1.9696465730667114, Val Accuracy: 32.400001525878906\n",
      "Iteration 700, Epoch 1, Loss: 2.08797025680542, Accuracy: 24.859575271606445, Val Loss: 1.9443981647491455, Val Accuracy: 33.39999771118164\n"
     ]
    }
   ],
   "source": [
    "def model_init_fn():\n",
    "    model = None\n",
    "    ############################################################################\n",
    "    # TODO: Construct a three-layer ConvNet using tf.keras.Sequential.         #\n",
    "    ############################################################################\n",
    "    # *****START OF YOUR CODE (DO NOT DELETE/MODIFY THIS LINE)*****\n",
    "\n",
    "    model = tf.keras.Sequential([\n",
    "        tf.keras.layers.Conv2D(32, (5, 5), padding='same', activation='relu', input_shape=(32, 32, 3)),\n",
    "        tf.keras.layers.Conv2D(16, (3, 3), padding='same', activation='relu'),\n",
    "        tf.keras.layers.Flatten(),\n",
    "        tf.keras.layers.Dense(10, activation='softmax')\n",
    "    ])\n",
    "    return model\n",
    "\n",
    "    # *****END OF YOUR CODE (DO NOT DELETE/MODIFY THIS LINE)*****\n",
    "    ############################################################################\n",
    "    #                            END OF YOUR CODE                              #\n",
    "    ############################################################################\n",
    "    return model\n",
    "\n",
    "learning_rate = 5e-4\n",
    "def optimizer_init_fn():\n",
    "    optimizer = None\n",
    "    ############################################################################\n",
    "    # TODO: Complete the implementation of model_fn.                           #\n",
    "    ############################################################################\n",
    "    # *****START OF YOUR CODE (DO NOT DELETE/MODIFY THIS LINE)*****\n",
    "\n",
    "    optimizer = tf.keras.optimizers.SGD(learning_rate=5e-4)\n",
    "\n",
    "    # *****END OF YOUR CODE (DO NOT DELETE/MODIFY THIS LINE)*****\n",
    "    ############################################################################\n",
    "    #                           END OF YOUR CODE                               #\n",
    "    ############################################################################\n",
    "    return optimizer\n",
    "\n",
    "train_part34(model_init_fn, optimizer_init_fn)"
   ]
  },
  {
   "cell_type": "code",
   "execution_count": 88,
   "metadata": {
    "ExecuteTime": {
     "end_time": "2024-04-07T09:53:55.677014900Z",
     "start_time": "2024-04-07T09:53:26.889613400Z"
    }
   },
   "outputs": [
    {
     "name": "stdout",
     "output_type": "stream",
     "text": [
      "\u001b[1m766/766\u001b[0m \u001b[32m━━━━━━━━━━━━━━━━━━━━\u001b[0m\u001b[37m\u001b[0m \u001b[1m26s\u001b[0m 33ms/step - loss: 2.5167 - sparse_categorical_accuracy: 0.3293 - val_loss: 1.5048 - val_sparse_categorical_accuracy: 0.5030\n",
      "\u001b[1m313/313\u001b[0m \u001b[32m━━━━━━━━━━━━━━━━━━━━\u001b[0m\u001b[37m\u001b[0m \u001b[1m2s\u001b[0m 6ms/step - loss: 1.4734 - sparse_categorical_accuracy: 0.5067\n"
     ]
    },
    {
     "data": {
      "text/plain": [
       "[1.4787901639938354, 0.5030999779701233]"
      ]
     },
     "execution_count": 88,
     "metadata": {},
     "output_type": "execute_result"
    }
   ],
   "source": [
    "model = model_init_fn()\n",
    "model.compile(optimizer='sgd',\n",
    "              loss='sparse_categorical_crossentropy',\n",
    "              metrics=[tf.keras.metrics.sparse_categorical_accuracy])\n",
    "model.fit(X_train, y_train, batch_size=64, epochs=1, validation_data=(X_val, y_val))\n",
    "model.evaluate(X_test, y_test)"
   ]
  },
  {
   "cell_type": "markdown",
   "metadata": {},
   "source": [
    "# Использование Keras Functional API\n",
    "\n",
    "Для реализации более сложных архитектур сети с несколькими входами/выходами, повторным использованием слоев, \"остаточными\" связями (residual connections) необходимо явно указать входные и выходные тензоры. \n",
    "\n",
    "Ниже представлен пример для полносвязной сети. "
   ]
  },
  {
   "cell_type": "code",
   "execution_count": 35,
   "metadata": {
    "ExecuteTime": {
     "end_time": "2024-04-07T09:54:17.938344700Z",
     "start_time": "2024-04-07T09:54:17.922838400Z"
    }
   },
   "outputs": [
    {
     "name": "stdout",
     "output_type": "stream",
     "text": [
      "(64, 10)\n"
     ]
    }
   ],
   "source": [
    "def two_layer_fc_functional(input_shape, hidden_size, num_classes):  \n",
    "    initializer = tf.initializers.VarianceScaling(scale=2.0)\n",
    "    inputs = tf.keras.Input(shape=input_shape)\n",
    "    flattened_inputs = tf.keras.layers.Flatten()(inputs)\n",
    "    fc1_output = tf.keras.layers.Dense(hidden_size, activation='relu',\n",
    "                                 kernel_initializer=initializer)(flattened_inputs)\n",
    "    scores = tf.keras.layers.Dense(num_classes, activation='softmax',\n",
    "                             kernel_initializer=initializer)(fc1_output)\n",
    "\n",
    "    # Instantiate the model given inputs and outputs.\n",
    "    model = tf.keras.Model(inputs=inputs, outputs=scores)\n",
    "    return model\n",
    "\n",
    "def test_two_layer_fc_functional():\n",
    "    \"\"\" A small unit test to exercise the TwoLayerFC model above. \"\"\"\n",
    "    input_size, hidden_size, num_classes = 50, 42, 10\n",
    "    input_shape = (50,)\n",
    "    \n",
    "    x = tf.zeros((64, input_size))\n",
    "    model = two_layer_fc_functional(input_shape, hidden_size, num_classes)\n",
    "    \n",
    "    with tf.device(device):\n",
    "        scores = model(x)\n",
    "        print(scores.shape)\n",
    "        \n",
    "test_two_layer_fc_functional()"
   ]
  },
  {
   "cell_type": "code",
   "execution_count": 90,
   "metadata": {
    "ExecuteTime": {
     "end_time": "2024-04-07T09:54:33.281838300Z",
     "start_time": "2024-04-07T09:54:19.912023800Z"
    }
   },
   "outputs": [
    {
     "name": "stdout",
     "output_type": "stream",
     "text": [
      "Iteration 0, Epoch 1, Loss: 3.074028968811035, Accuracy: 10.9375, Val Loss: 2.928805351257324, Val Accuracy: 13.699999809265137\n",
      "Iteration 100, Epoch 1, Loss: 2.238283395767212, Accuracy: 29.006805419921875, Val Loss: 1.9238306283950806, Val Accuracy: 36.70000076293945\n",
      "Iteration 200, Epoch 1, Loss: 2.084055185317993, Accuracy: 32.190608978271484, Val Loss: 1.9094109535217285, Val Accuracy: 39.0\n",
      "Iteration 300, Epoch 1, Loss: 2.0091769695281982, Accuracy: 34.131019592285156, Val Loss: 1.8816981315612793, Val Accuracy: 37.70000076293945\n",
      "Iteration 400, Epoch 1, Loss: 1.9387810230255127, Accuracy: 36.07777404785156, Val Loss: 1.7385469675064087, Val Accuracy: 41.5\n",
      "Iteration 500, Epoch 1, Loss: 1.894180178642273, Accuracy: 37.14446258544922, Val Loss: 1.6921082735061646, Val Accuracy: 42.39999771118164\n",
      "Iteration 600, Epoch 1, Loss: 1.8628191947937012, Accuracy: 37.99396896362305, Val Loss: 1.70707106590271, Val Accuracy: 42.39999771118164\n",
      "Iteration 700, Epoch 1, Loss: 1.8364534378051758, Accuracy: 38.614479064941406, Val Loss: 1.670657992362976, Val Accuracy: 43.20000076293945\n"
     ]
    }
   ],
   "source": [
    "input_shape = (32, 32, 3)\n",
    "hidden_size, num_classes = 4000, 10\n",
    "learning_rate = 1e-2\n",
    "\n",
    "def model_init_fn():\n",
    "    return two_layer_fc_functional(input_shape, hidden_size, num_classes)\n",
    "\n",
    "def optimizer_init_fn():\n",
    "    return tf.keras.optimizers.SGD(learning_rate=learning_rate)\n",
    "\n",
    "train_part34(model_init_fn, optimizer_init_fn)"
   ]
  },
  {
   "cell_type": "markdown",
   "metadata": {},
   "source": [
    "Поэкспериментируйте с архитектурой сверточной сети. Для вашего набора данных вам необходимо получить как минимум 70% accuracy на валидационной выборке за 10 эпох обучения. Опишите все эксперименты и сделайте выводы (без выполнения данного пункта работы приниматься не будут). \n",
    "\n",
    "Эспериментируйте с архитектурой, гиперпараметрами, функцией потерь, регуляризацией, методом оптимизации.  \n",
    "\n",
    "https://www.tensorflow.org/versions/r2.0/api_docs/python/tf/keras/layers/BatchNormalization#methods https://www.tensorflow.org/versions/r2.0/api_docs/python/tf/keras/layers/Dropout#methods"
   ]
  },
  {
   "cell_type": "code",
   "execution_count": null,
   "metadata": {
    "ExecuteTime": {
     "end_time": "2024-04-07T10:10:48.020633400Z",
     "start_time": "2024-04-07T09:56:38.250825400Z"
    }
   },
   "outputs": [
    {
     "name": "stdout",
     "output_type": "stream",
     "text": [
      "Iteration 0, Epoch 1, Loss: 3.1635751724243164, Accuracy: 7.8125, Val Loss: 2.28073787689209, Val Accuracy: 14.90000057220459\n",
      "Iteration 100, Epoch 1, Loss: 1.7793300151824951, Accuracy: 38.0259895324707, Val Loss: 2.8919293880462646, Val Accuracy: 19.400001525878906\n",
      "Iteration 200, Epoch 1, Loss: 1.6323238611221313, Accuracy: 42.29633331298828, Val Loss: 2.7153565883636475, Val Accuracy: 27.5\n",
      "Iteration 300, Epoch 1, Loss: 1.5507398843765259, Accuracy: 45.364410400390625, Val Loss: 2.1024601459503174, Val Accuracy: 35.29999923706055\n",
      "Iteration 400, Epoch 1, Loss: 1.4828275442123413, Accuracy: 47.658199310302734, Val Loss: 1.5391556024551392, Val Accuracy: 47.0\n",
      "Iteration 500, Epoch 1, Loss: 1.4269416332244873, Accuracy: 49.73802185058594, Val Loss: 1.3812057971954346, Val Accuracy: 51.70000076293945\n",
      "Iteration 600, Epoch 1, Loss: 1.3924070596694946, Accuracy: 50.95673751831055, Val Loss: 1.0977132320404053, Val Accuracy: 61.19999694824219\n",
      "Iteration 700, Epoch 1, Loss: 1.360744833946228, Accuracy: 52.070701599121094, Val Loss: 1.0241578817367554, Val Accuracy: 64.30000305175781\n",
      "Iteration 800, Epoch 2, Loss: 1.060003638267517, Accuracy: 62.54464340209961, Val Loss: 1.0896610021591187, Val Accuracy: 62.900001525878906\n",
      "Iteration 900, Epoch 2, Loss: 1.0516592264175415, Accuracy: 62.59259033203125, Val Loss: 0.9849678874015808, Val Accuracy: 67.0999984741211\n",
      "Iteration 1000, Epoch 2, Loss: 1.0394365787506104, Accuracy: 63.10505294799805, Val Loss: 1.0174559354782104, Val Accuracy: 65.5\n",
      "Iteration 1100, Epoch 2, Loss: 1.020786166191101, Accuracy: 63.94589614868164, Val Loss: 0.9320822358131409, Val Accuracy: 66.29999542236328\n",
      "Iteration 1200, Epoch 2, Loss: 1.0022335052490234, Accuracy: 64.63721466064453, Val Loss: 0.9051828384399414, Val Accuracy: 69.5\n",
      "Iteration 1300, Epoch 2, Loss: 0.991661548614502, Accuracy: 65.08761596679688, Val Loss: 0.9425436854362488, Val Accuracy: 67.69999694824219\n",
      "Iteration 1400, Epoch 2, Loss: 0.9826274514198303, Accuracy: 65.43798828125, Val Loss: 0.8529406785964966, Val Accuracy: 68.30000305175781\n",
      "Iteration 1500, Epoch 2, Loss: 0.9701998233795166, Accuracy: 65.77593994140625, Val Loss: 0.8495965003967285, Val Accuracy: 70.9000015258789\n",
      "Iteration 1600, Epoch 3, Loss: 0.8381630778312683, Accuracy: 70.78804016113281, Val Loss: 0.8482637405395508, Val Accuracy: 72.0999984741211\n",
      "Iteration 1700, Epoch 3, Loss: 0.8429831862449646, Accuracy: 70.53439331054688, Val Loss: 0.8539590239524841, Val Accuracy: 69.70000457763672\n",
      "Iteration 1800, Epoch 3, Loss: 0.8408336043357849, Accuracy: 70.20794677734375, Val Loss: 0.807619035243988, Val Accuracy: 71.69999694824219\n",
      "Iteration 1900, Epoch 3, Loss: 0.8325536847114563, Accuracy: 70.5030517578125, Val Loss: 0.8413644433021545, Val Accuracy: 71.4000015258789\n",
      "Iteration 2000, Epoch 3, Loss: 0.8214591145515442, Accuracy: 70.78558349609375, Val Loss: 0.7800694108009338, Val Accuracy: 73.0\n",
      "Iteration 2100, Epoch 3, Loss: 0.8166697025299072, Accuracy: 71.03196716308594, Val Loss: 0.8020519614219666, Val Accuracy: 72.39999389648438\n",
      "Iteration 2200, Epoch 3, Loss: 0.8140411972999573, Accuracy: 71.18833923339844, Val Loss: 0.7765900492668152, Val Accuracy: 73.69999694824219\n",
      "Iteration 2300, Epoch 4, Loss: 0.7238048911094666, Accuracy: 73.95832824707031, Val Loss: 0.7669066786766052, Val Accuracy: 74.0\n",
      "Iteration 2400, Epoch 4, Loss: 0.7314241528511047, Accuracy: 74.16565704345703, Val Loss: 0.7516719698905945, Val Accuracy: 75.0\n",
      "Iteration 2500, Epoch 4, Loss: 0.7362949848175049, Accuracy: 73.78386688232422, Val Loss: 0.7984195351600647, Val Accuracy: 73.4000015258789\n",
      "Iteration 2600, Epoch 4, Loss: 0.7279219627380371, Accuracy: 74.23164367675781, Val Loss: 0.7659847736358643, Val Accuracy: 73.9000015258789\n",
      "Iteration 2700, Epoch 4, Loss: 0.7215988039970398, Accuracy: 74.44168853759766, Val Loss: 0.7915088534355164, Val Accuracy: 73.79999542236328\n",
      "Iteration 2800, Epoch 4, Loss: 0.7153990864753723, Accuracy: 74.64276885986328, Val Loss: 0.7822511792182922, Val Accuracy: 74.5999984741211\n"
     ]
    }
   ],
   "source": [
    "class CustomConvNet(tf.keras.Model):\n",
    "    def __init__(self):\n",
    "        super(CustomConvNet, self).__init__()\n",
    "        ############################################################################\n",
    "        # TODO: Construct a model that performs well on CIFAR-10                   #\n",
    "        ############################################################################\n",
    "        # *****START OF YOUR CODE (DO NOT DELETE/MODIFY THIS LINE)*****\n",
    "\n",
    "        self.conv1 = tf.keras.layers.Conv2D(32, (3, 3), padding='same', activation='relu')\n",
    "        self.bn1 = tf.keras.layers.BatchNormalization()\n",
    "        self.conv2 = tf.keras.layers.Conv2D(64, (3, 3), padding='same', activation='relu')\n",
    "        self.bn2 = tf.keras.layers.BatchNormalization()\n",
    "        self.pool = tf.keras.layers.MaxPooling2D((2, 2))\n",
    "        self.dropout = tf.keras.layers.Dropout(0.5)\n",
    "        self.conv3 = tf.keras.layers.Conv2D(128, (3, 3), padding='same', activation='relu')\n",
    "        self.bn3 = tf.keras.layers.BatchNormalization()\n",
    "        self.flatten = tf.keras.layers.Flatten()\n",
    "        self.fc1 = tf.keras.layers.Dense(64, activation='relu')\n",
    "        self.fc2 = tf.keras.layers.Dense(10, activation='softmax')\n",
    "\n",
    "        # *****END OF YOUR CODE (DO NOT DELETE/MODIFY THIS LINE)*****\n",
    "        ############################################################################\n",
    "        #                            END OF YOUR CODE                              #\n",
    "        ############################################################################\n",
    "    \n",
    "    def call(self, input_tensor, training=False):\n",
    "        ############################################################################\n",
    "        # TODO: Construct a model that performs well on CIFAR-10                   #\n",
    "        ############################################################################\n",
    "        # *****START OF YOUR CODE (DO NOT DELETE/MODIFY THIS LINE)*****\n",
    "\n",
    "        x = self.conv1(input_tensor)\n",
    "        x = self.bn1(x, training=training)\n",
    "        x = self.pool(x)\n",
    "        x = self.conv2(x)\n",
    "        x = self.bn2(x, training=training)\n",
    "        x = self.pool(x)\n",
    "        x = self.dropout(x, training=training)\n",
    "        x = self.conv3(x)\n",
    "        x = self.bn3(x, training=training)\n",
    "        x = self.flatten(x)\n",
    "        x = self.fc1(x)\n",
    "        x = self.fc2(x)\n",
    "\n",
    "        # *****END OF YOUR CODE (DO NOT DELETE/MODIFY THIS LINE)*****\n",
    "        ############################################################################\n",
    "        #                            END OF YOUR CODE                              #\n",
    "        ############################################################################\n",
    "        return x\n",
    "\n",
    "\n",
    "print_every = 700\n",
    "num_epochs = 10\n",
    "\n",
    "model = CustomConvNet()\n",
    "\n",
    "def model_init_fn():\n",
    "    return CustomConvNet()\n",
    "\n",
    "def optimizer_init_fn():\n",
    "    learning_rate = 1e-3\n",
    "    return tf.keras.optimizers.Adam(learning_rate) \n",
    "\n",
    "train_part34(model_init_fn, optimizer_init_fn, num_epochs=num_epochs, is_training=True)"
   ]
  },
  {
   "cell_type": "markdown",
   "metadata": {},
   "source": [
    "# Выводы\n",
    "\n",
    "В ходе данного эксперимента была разработана и опробована сверточная нейронная сеть на базе TensorFlow для классификации изображений из набора CIFAR-10.\n",
    "Созданная сеть включала в себя следующие элементы:\n",
    "\n",
    "Сверточные слои с активацией ReLU для эффективного извлечения признаков.\n",
    "Слои пакетной нормализации для ускорения обучения и повышения стабильности работы сети.\n",
    "Слои пулинга, сокращающие пространственные размеры данных.\n",
    "Слои dropout с различными коэффициентами, предназначенные для снижения переобучения.\n",
    "Полносвязные слои на выходе сети, задачей которых является классификация изображений.\n",
    "В качестве оптимизатора использовался Adam с определённой скоростью обучения, а функция потерь была представлена SparseCategoricalCrossentropy. Обучение проводилось на протяжении нескольких эпох с применением обратного распространения ошибки и градиентного спуска для настройки весов модели.\n",
    "\n",
    "Результаты эксперимента показали, что модель с каждой новой эпохой демонстрировала рост точности на тренировочной и валидационной выборках. Внедрение пакетной нормализации и слоёв dropout позволило повысить обобщающую способность сети, что в итоге способствовало достижению высокой точности на тестовом наборе данных.\n",
    "Эти находки подчеркивают значимость использования продвинутых архитектур сверточных нейронных сетей с применением пакетной нормализации и dropout в задачах классификации."
   ]
  },
  {
   "cell_type": "markdown",
   "metadata": {},
   "source": [
    "Опишите все эксперименты, результаты. Сделайте выводы."
   ]
  },
  {
   "cell_type": "markdown",
   "metadata": {
    "collapsed": false,
    "jupyter": {
     "outputs_hidden": false
    }
   },
   "source": [
    "# Выводы по экспериментам:\n",
    "\n",
    "В данном эксперименте использовались следующие компоненты для построения архитектуры нейронной сети:\r\n",
    "\r\n",
    "Сверточные слои (Conv2D) с активацией ReLU для эффективного извлечения признаков из изображений.\r\n",
    "Слои пакетной нормализации (BatchNormalization) для ускорения и стабилизации процесса обучения.\r\n",
    "Слои пулинга (MaxPooling2D), которые помогают уменьшить пространственные размеры данных.\r\n",
    "Dropout 0.4) для регуляризации и минимизации переобучения.\r\n",
    "Полносвязные слои (Dense) на выходе для классификации изобращению.\r\n",
    "Стратегии оптимизации и выбор функции потерь:\r\n",
    "\r\n",
    "Применялся оптимизатор Adam с фиксированной скоростью обучения, что является проверенным выбором для множества задач машинного обучения.\r\n",
    "В качестве функции потерь использовалась SparseCategoricalCrossentropy, что подходит для задач классификации с множеством классов. Эффективность этих методов подтверждается наблюдаемым повышением точности модели в ходе увеличения числа эпох обучения.\r\n",
    "Анализ результатов и ключевые выводы:\r\n",
    "\r\n",
    "Модель демонстрировала постоянный рост точности как на тренировочных, так и на валидационных данных, что свидетельствует о правильности выбранной архитектуры и методики обучения.\r\n",
    "Использование пакетной нормализации и слоёв dropout с различными коэффициентами эффективно способствовало уменьшению переобучения и увеличению точности на тестовых данных, что подтверждает целесообразность этих подходов в создании робустных моделей компьютерного зрения и машинного обучения."
   ]
  },
  {
   "cell_type": "code",
   "execution_count": null,
   "metadata": {},
   "outputs": [],
   "source": []
  }
 ],
 "metadata": {
  "kernelspec": {
   "display_name": "Python 3 (ipykernel)",
   "language": "python",
   "name": "python3"
  },
  "language_info": {
   "codemirror_mode": {
    "name": "ipython",
    "version": 3
   },
   "file_extension": ".py",
   "mimetype": "text/x-python",
   "name": "python",
   "nbconvert_exporter": "python",
   "pygments_lexer": "ipython3",
   "version": "3.9.13"
  }
 },
 "nbformat": 4,
 "nbformat_minor": 4
}
